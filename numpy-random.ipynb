{
 "cells": [
  {
   "cell_type": "markdown",
   "metadata": {},
   "source": [
    "# NumPy  \n",
    "\n",
    "<img src=\"img/numpy-logo.png\" width=\"100\" height=\"100\" align=\"center\"/>\n",
    "\n",
    "NumPy or Numeric Python is the fundamental package for scientific computing with Python. It is a Python library that acts as a wrapper around underlying C and Fortran code. NumPy focuses on matrices, which are called in the arrays. There are some limitations in using the Python list and NumPy provides an alternative to the regular Python list. We can analyze data much more efficiently and perform calculations over entire arrays. It contains among other things:\n",
    "\n",
    "- a powerful N-dimensional array object\n",
    "- sophisticated (broadcasting) functions\n",
    "- tools for integrating C/C++ and Fortran code\n",
    "- useful linear algebra, Fourier transform, and random number capabilities\n",
    "\n",
    "***\n",
    "\n",
    "### NumPy Resources\n",
    "\n",
    "*https://docs.scipy.org/doc/numpy/about.html?highlight=numpy%20random*\n",
    "*https://docs.scipy.org/doc/numpy-1.15.0/user/quickstart.html*\n",
    "*https://docs.scipy.org/doc/numpy/*\n",
    "*https://metaspace.blog/programming/python/python-numpy-basics-2*\n",
    "*https://www.quora.com/In-Python-what-is-NumPy-How-is-it-used*\n",
    "*https://docs.scipy.org/doc/numpy-1.15.1/reference/ufuncs.html*\n",
    "*https://docs.scipy.org/doc/numpy-1.15.1/reference/generated/numpy.ndarray.html#numpy.ndarray*\n",
    "\n",
    "***\n",
    "\n",
    "### Examples"
   ]
  },
  {
   "cell_type": "code",
   "execution_count": 1,
   "metadata": {},
   "outputs": [
    {
     "name": "stdout",
     "output_type": "stream",
     "text": [
      "[5, 8, 9, 8, 5]\n"
     ]
    }
   ],
   "source": [
    "# an example of standard Pyhon lists\n",
    "list_a = [1, 2, 3, 4, 5]\n",
    "list_b = [5, 4, 3, 2, 1]\n",
    "result = []\n",
    "\n",
    "for i in range(0, len(list_a)):\n",
    "    result.append(list_a[i] * list_b[i])\n",
    "print(result)"
   ]
  },
  {
   "cell_type": "code",
   "execution_count": 2,
   "metadata": {},
   "outputs": [
    {
     "name": "stdout",
     "output_type": "stream",
     "text": [
      "[5 8 9 8 5]\n"
     ]
    }
   ],
   "source": [
    "# an example of NumPy's arrays\n",
    "import numpy as np\n",
    "\n",
    "list_a = np.array([1, 2, 3, 4, 5])\n",
    "list_b = np.array([5, 4, 3, 2, 1])\n",
    "print(list_a * list_b)"
   ]
  },
  {
   "cell_type": "code",
   "execution_count": 3,
   "metadata": {},
   "outputs": [
    {
     "name": "stdout",
     "output_type": "stream",
     "text": [
      "[[[ 0  1  2  3]\n",
      "  [ 4  5  6  7]\n",
      "  [ 8  9 10 11]]\n",
      "\n",
      " [[12 13 14 15]\n",
      "  [16 17 18 19]\n",
      "  [20 21 22 23]]]\n"
     ]
    }
   ],
   "source": [
    "# arranging and reshaping array using NumPy's ndarray built in functions\n",
    "x = np.arange(24).reshape(2,3,4)\n",
    "print(x)"
   ]
  },
  {
   "cell_type": "markdown",
   "metadata": {},
   "source": [
    "# Matplotlib and Pyplot\n",
    "\n",
    "<img src=\"img/matplotlib-logo.png\" width=\"100\" height=\"100\" align=\"center\"/>\n",
    "\n",
    "Matplotlib is a plotting library for the Python programming language and its numerical mathematics extension NumPy. Pyplot function is matplotlib's plotting framework and provides the state-machine interface to the underlying plotting library in matplotlib. \n",
    "\n",
    "Pyplot is mainly intended for interactive plots and simple cases of programmatic plot generation. With pyplot, simple functions are used to add plot elements, such as lines, images, text, etc. to the current axes in the current figure.\n",
    "\n",
    "***\n",
    "\n",
    "### Matplotlib and Pyplot Resources\n",
    "\n",
    "*https://matplotlib.org/*\n",
    "*https://matplotlib.org/tutorials/introductory/pyplot.html*\n",
    "*https://matplotlib.org/api/_as_gen/matplotlib.pyplot.html*\n",
    "*https://realpython.com/python-matplotlib-guide/*\n",
    "*https://en.wikipedia.org/wiki/Matplotlib*\n",
    "\n",
    "***\n",
    "\n",
    "### Examples"
   ]
  },
  {
   "cell_type": "code",
   "execution_count": 4,
   "metadata": {},
   "outputs": [
    {
     "data": {
      "image/png": "[encoded data removed]",
      "text/plain": [
       "<Figure size 432x288 with 1 Axes>"
      ]
     },
     "metadata": {
      "needs_background": "light"
     },
     "output_type": "display_data"
    }
   ],
   "source": [
    "import matplotlib.pyplot as plt\n",
    "from matplotlib import style\n",
    "\n",
    "style.use('ggplot')\n",
    "\n",
    "x1 = np.arange(0.0, 10.0) \n",
    "y1 = 2 * x1 + 10\n",
    "\n",
    "x2 = np.arange(-2.0 * np.pi, 2.0 * np.pi, 0.1)\n",
    "\n",
    "%matplotlib inline\n",
    "\n",
    "plt.plot(x1, y1, 'b', label='curve1', linewidth=2)\n",
    "plt.plot(x2, np.sin(x2) / 0.2 * x2, 'g', label='curve2', linewidth=2)\n",
    "\n",
    "plt.title('Title')\n",
    "plt.xlabel('X axis')\n",
    "plt.ylabel('Y axis')\n",
    "plt.legend()\n",
    "\n",
    "plt.grid(True, color='y')\n",
    "\n",
    "plt.show()"
   ]
  },
  {
   "cell_type": "markdown",
   "metadata": {},
   "source": [
    "# Random module - Generate pseudorandom numbers\n",
    "\n",
    "Python standard library provides a module called random that offers a suite of functions for generating random numbers. Random is a module that implements pseudorandom number generators for various distributions. The pseudorandom number generator is a mathematical function that generates a sequence of nearly random numbers using generator called the [Mersenne Twister](https://en.wikipedia.org/wiki/Mersenne_Twister).\n",
    "\n",
    "NumPy has its own implementation of a random generator and as well as Python also implements the Mersenne Twister pseudorandom number generator.\n",
    "\n",
    "0 ≤ x < 1 \n",
    "\n",
    "***\n",
    "\n",
    "### Resources \n",
    "\n",
    "*https://machinelearningmastery.com/how-to-generate-random-numbers-in-python/*\n",
    "*https://en.wikipedia.org/wiki/Pseudorandom_number_generator*\n",
    "*https://en.wikipedia.org/wiki/Random_number_generation*\n",
    "*https://docs.scipy.org/doc/numpy-1.15.1/reference/routines.random.html*\n",
    "*https://en.wikipedia.org/wiki/Mersenne_Twister*\n",
    "\n",
    "***\n",
    "\n",
    "## numpy.random.random() and numpy.random.rand() functions\n",
    "\n",
    "Both random.random and random.rand functions generate pseudo random floating point samples from the uniform distribution in the range [0.0, 1.0). It means that generated samples will include 0.0, but not include 1.0, which is also known as a semi-open range or half-closed interval / half-open interval range.\n",
    "\n",
    "[Mathworld](http://mathworld.wolfram.com/Half-ClosedInterval.html) eplains it as an interval in which one endpoint is included but not the other. A half-closed interval is denoted [a,b) or (a,b] and is also called a half-open interval.\n",
    "\n",
    "![half-closed-interval](img/halfClosedInterval.png)\n",
    "\n",
    "* **numpy.random.random()** function\n",
    "returns random floats in the half-open interval [0.0, 1.0). It is actually an alias for numpy.random.random_sample() funtion.\n",
    "[Results](https://docs.scipy.org/doc/numpy/reference/generated/numpy.random.random.html#numpy.random.random) are from the \"continuous uniform\" distribution over the stated interval. Random.random() takes only one argument, the shape argument is a single tuple\n"
   ]
  },
  {
   "cell_type": "code",
   "execution_count": 5,
   "metadata": {},
   "outputs": [
    {
     "name": "stdout",
     "output_type": "stream",
     "text": [
      "0.29943679323836647\n"
     ]
    }
   ],
   "source": [
    "# Generate random float number in the range [0.0, 1.0)\n",
    "num = np.random.random()\n",
    "print(num)"
   ]
  },
  {
   "cell_type": "code",
   "execution_count": 6,
   "metadata": {},
   "outputs": [
    {
     "name": "stdout",
     "output_type": "stream",
     "text": [
      "[0.63633382 0.7259567  0.98272685 0.92701663]\n"
     ]
    }
   ],
   "source": [
    "# If argument is given, for ex. 4, it will generate four random floats in the range [0.0, 1.0)\n",
    "num = np.random.random(4)\n",
    "print(num)"
   ]
  },
  {
   "cell_type": "code",
   "execution_count": null,
   "metadata": {},
   "outputs": [],
   "source": []
  }
 ],
 "metadata": {
  "kernelspec": {
   "display_name": "Python 3",
   "language": "python",
   "name": "python3"
  },
  "language_info": {
   "codemirror_mode": {
    "name": "ipython",
    "version": 3
   },
   "file_extension": ".py",
   "mimetype": "text/x-python",
   "name": "python",
   "nbconvert_exporter": "python",
   "pygments_lexer": "ipython3",
   "version": "3.7.0"
  }
 },
 "nbformat": 4,
 "nbformat_minor": 1
}
