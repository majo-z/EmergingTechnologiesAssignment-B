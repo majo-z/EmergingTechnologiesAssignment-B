{
 "cells": [
  {
   "cell_type": "markdown",
   "metadata": {},
   "source": [
    "# NumPy \n",
    "\n",
    "<img src=\"img/numpy-logo.png\" width=\"100\" height=\"100\" align=\"center\"/>\n",
    "\n",
    "NumPy or Numeric Python is the fundamental package for scientific computing with Python. It is a Python library that acts as a wrapper around underlying C and Fortran code. NumPy focuses on matrices, which are called in the arrays. There are some limitations in using the Python list and NumPy provides an alternative to the regular Python list. We can analyze data much more efficiently and perform calculations over entire arrays. It contains among other things:\n",
    "\n",
    "- a powerful N-dimensional array object\n",
    "- sophisticated (broadcasting) functions\n",
    "- tools for integrating C/C++ and Fortran code\n",
    "- useful linear algebra, Fourier transform, and random number capabilities\n",
    "\n",
    "\n",
    "### NumPy Resources & References\n",
    "\n",
    "*https://docs.scipy.org/doc/numpy/about.html?highlight=numpy%20random*\n",
    "\n",
    "*https://docs.scipy.org/doc/numpy-1.15.0/user/quickstart.html*\n",
    "\n",
    "*https://docs.scipy.org/doc/numpy/*\n",
    "\n",
    "*https://metaspace.blog/programming/python/python-numpy-basics-2*\n",
    "\n",
    "*https://www.quora.com/In-Python-what-is-NumPy-How-is-it-used*\n",
    "\n",
    "*https://docs.scipy.org/doc/numpy-1.15.1/reference/ufuncs.html*\n",
    "\n",
    "*https://docs.scipy.org/doc/numpy-1.15.1/reference/generated/numpy.ndarray.html#numpy.ndarray*\n",
    "\n",
    "\n",
    "### Examples"
   ]
  },
  {
   "cell_type": "code",
   "execution_count": 1,
   "metadata": {},
   "outputs": [
    {
     "name": "stdout",
     "output_type": "stream",
     "text": [
      "[5, 8, 9, 8, 5]\n"
     ]
    }
   ],
   "source": [
    "# an example of standard Pyhon lists\n",
    "list_a = [1, 2, 3, 4, 5]\n",
    "list_b = [5, 4, 3, 2, 1]\n",
    "result = []\n",
    "\n",
    "for i in range(0, len(list_a)):\n",
    "    result.append(list_a[i] * list_b[i])\n",
    "print(result)"
   ]
  },
  {
   "cell_type": "code",
   "execution_count": 2,
   "metadata": {},
   "outputs": [
    {
     "name": "stdout",
     "output_type": "stream",
     "text": [
      "[5 8 9 8 5]\n"
     ]
    }
   ],
   "source": [
    "# an example of NumPy's arrays\n",
    "import numpy as np\n",
    "\n",
    "list_a = np.array([1, 2, 3, 4, 5])\n",
    "list_b = np.array([5, 4, 3, 2, 1])\n",
    "print(list_a * list_b)"
   ]
  },
  {
   "cell_type": "code",
   "execution_count": 3,
   "metadata": {},
   "outputs": [
    {
     "name": "stdout",
     "output_type": "stream",
     "text": [
      "[[[ 0  1  2  3]\n",
      "  [ 4  5  6  7]\n",
      "  [ 8  9 10 11]]\n",
      "\n",
      " [[12 13 14 15]\n",
      "  [16 17 18 19]\n",
      "  [20 21 22 23]]]\n"
     ]
    }
   ],
   "source": [
    "# arranging and reshaping array using NumPy's ndarray built in functions\n",
    "x = np.arange(24).reshape(2,3,4)\n",
    "print(x)"
   ]
  },
  {
   "cell_type": "markdown",
   "metadata": {},
   "source": [
    "***\n",
    "# Matplotlib and Pyplot\n",
    "\n",
    "<img src=\"img/matplotlib-logo.png\" width=\"100\" height=\"100\" align=\"center\"/>\n",
    "\n",
    "Matplotlib is a plotting library for the Python programming language and its numerical mathematics extension NumPy. Pyplot function is matplotlib's plotting framework and provides the state-machine interface to the underlying plotting library in matplotlib.\n",
    "\n",
    "Pyplot is mainly intended for interactive plots and simple cases of programmatic plot generation. With pyplot, simple functions are used to add plot elements, such as lines, images, text, etc. to the current axes in the current figure.\n",
    "\n",
    "\n",
    "### Matplotlib and Pyplot Resources & References\n",
    "\n",
    "*https://matplotlib.org/*\n",
    "\n",
    "*https://matplotlib.org/tutorials/introductory/pyplot.html*\n",
    "\n",
    "*https://matplotlib.org/api/_as_gen/matplotlib.pyplot.html*\n",
    "\n",
    "*https://realpython.com/python-matplotlib-guide/*\n",
    "\n",
    "*https://en.wikipedia.org/wiki/Matplotlib*\n",
    "\n",
    "### Examples"
   ]
  },
  {
   "cell_type": "code",
   "execution_count": 4,
   "metadata": {
    "scrolled": true
   },
   "outputs": [
    {
     "data": {
      "image/png": "[encoded data removed]",
      "text/plain": [
       "<Figure size 432x288 with 1 Axes>"
      ]
     },
     "metadata": {},
     "output_type": "display_data"
    }
   ],
   "source": [
    "%matplotlib inline\n",
    "import matplotlib.pyplot as plt\n",
    "from matplotlib import style\n",
    "\n",
    "style.use('ggplot')\n",
    "\n",
    "x1 = np.arange(0.0, 10.0) \n",
    "y1 = 2 * x1 + 10\n",
    "x2 = np.arange(-2.0 * np.pi, 2.0 * np.pi, 0.1)\n",
    "\n",
    "plt.plot(x1, y1, 'b', label='curve1', linewidth=2)\n",
    "plt.plot(x2, np.sin(x2) / 0.2 * x2, 'g', label='curve2', linewidth=2)\n",
    "\n",
    "plt.title('Title')\n",
    "plt.xlabel('X axis')\n",
    "plt.ylabel('Y axis')\n",
    "plt.legend()\n",
    "\n",
    "plt.grid(True, color='y')\n",
    "\n",
    "plt.show()"
   ]
  },
  {
   "cell_type": "markdown",
   "metadata": {},
   "source": [
    "***\n",
    "# Random module - Generate numbers\n",
    "\n",
    "Python standard library provides a module called random that offers a variety of functions for generating random numbers. Random is a module that implements pseudorandom number generators for various distributions. The pseudorandom number generator is a mathematical function that generates a sequence of nearly random numbers using generator called the [Mersenne Twister](https://en.wikipedia.org/wiki/Mersenne_Twister). It produces 53-bit precision floats and has a period of $2^{19937} - 1$. The period is the length of the sequence before the internal state repeats, that is why Mersenne Twister is not truly random generator, but generates numbers that are sufficiently close to random. \n",
    "\n",
    "NumPy has its own implementation of a random generator and as well as Python also implements the Mersenne Twister pseudorandom number generator.\n",
    "\n",
    "\n",
    "### Random module Resources & References \n",
    "\n",
    "*https://machinelearningmastery.com/how-to-generate-random-numbers-in-python/*\n",
    "\n",
    "*https://en.wikipedia.org/wiki/Pseudorandom_number_generator*\n",
    "\n",
    "*https://en.wikipedia.org/wiki/Random_number_generation*\n",
    "\n",
    "*https://docs.scipy.org/doc/numpy-1.15.1/reference/routines.random.html*\n",
    "\n",
    "*https://brian2.readthedocs.io/en/stable/advanced/random.html*\n",
    "\n",
    "*https://docs.python.org/3/library/random.html*\n",
    "\n",
    "*https://realpython.com/python-random/*"
   ]
  },
  {
   "cell_type": "markdown",
   "metadata": {},
   "source": [
    "***\n",
    "## numpy.random.random() and numpy.random.rand() functions\n",
    "\n",
    "Both random.random and random.rand functions generate pseudo random floating point samples from the uniform distribution in the range [0.0, 1.0). It means that generated samples will include 0.0, but not include 1.0, which is also known as a semi-open range or half-closed interval / half-open interval range.\n",
    "\n",
    "[Mathworld](http://mathworld.wolfram.com/Half-ClosedInterval.html) eplains it as an interval in which one endpoint is included but not the other. A half-closed interval is denoted [a,b) or (a,b] and is also called a half-open interval.\n",
    "\n",
    "![half-closed-interval](img/halfClosedInterval.png)"
   ]
  },
  {
   "cell_type": "markdown",
   "metadata": {},
   "source": [
    "- **[numpy.random.random() function](https://docs.scipy.org/doc/numpy/reference/generated/numpy.random.random.html#numpy.random.random)**\n",
    "returns random floats in the half-open interval [0.0, 1.0). It is actually an alias for numpy.random.random_sample() funtion.\n",
    "Random.random function takes only one argument, the shape argument is a single tuple"
   ]
  },
  {
   "cell_type": "code",
   "execution_count": 5,
   "metadata": {},
   "outputs": [
    {
     "name": "stdout",
     "output_type": "stream",
     "text": [
      "0.10006283248347592\n"
     ]
    }
   ],
   "source": [
    "# If no argument is given, it will generate random float number in the range [0.0, 1.0)\n",
    "num = np.random.random()\n",
    "print(num)"
   ]
  },
  {
   "cell_type": "code",
   "execution_count": 6,
   "metadata": {},
   "outputs": [
    {
     "name": "stdout",
     "output_type": "stream",
     "text": [
      "[0.86072858 0.02941915 0.91062868 0.28034324]\n"
     ]
    }
   ],
   "source": [
    "# If argument is given, for ex. 4, it will generate four random floats in the range [0.0, 1.0)\n",
    "num = np.random.random(4)\n",
    "print(num)"
   ]
  },
  {
   "cell_type": "markdown",
   "metadata": {},
   "source": [
    "- **[numpy.random.rand() function](https://docs.scipy.org/doc/numpy-1.15.1/reference/generated/numpy.random.rand.html)** creates an array of specified shape and returns random floats in the half-open interval [0.0, 1.0). Random.rand function supports arrays of n dimensions with the shape of (d0, d1, ..., dn). The shapes of the output array are separate arguments. "
   ]
  },
  {
   "cell_type": "code",
   "execution_count": 7,
   "metadata": {},
   "outputs": [
    {
     "name": "stdout",
     "output_type": "stream",
     "text": [
      "0.6994325950502075\n"
     ]
    }
   ],
   "source": [
    "# If no argument is given, a single float in the range [0.0, 1.0) is returned\n",
    "num = np.random.rand()\n",
    "print(num)"
   ]
  },
  {
   "cell_type": "code",
   "execution_count": 8,
   "metadata": {},
   "outputs": [
    {
     "name": "stdout",
     "output_type": "stream",
     "text": [
      "[0.92890774 0.89718376 0.436666   0.41829983 0.41413381]\n"
     ]
    }
   ],
   "source": [
    "# If one argument is given, 1D Array of floats in the range [0.0, 1.0) are returned\n",
    "num = np.random.rand(5)\n",
    "print(num)"
   ]
  },
  {
   "cell_type": "code",
   "execution_count": 9,
   "metadata": {},
   "outputs": [
    {
     "name": "stdout",
     "output_type": "stream",
     "text": [
      "[[0.26860567 0.70040376]\n",
      " [0.25200898 0.81864387]\n",
      " [0.47005307 0.49010114]]\n"
     ]
    }
   ],
   "source": [
    "# If two arguments are given, 2D Array of floats in the range [0.0, 1.0) are returned\n",
    "num = np.random.rand(3, 2)\n",
    "print(num)"
   ]
  },
  {
   "cell_type": "code",
   "execution_count": 10,
   "metadata": {
    "scrolled": false
   },
   "outputs": [
    {
     "name": "stdout",
     "output_type": "stream",
     "text": [
      "[[[0.56088814 0.60091827 0.0102613  0.5389473  0.4761995  0.01490962]\n",
      "  [0.14752256 0.9602082  0.44785072 0.86820789 0.41414425 0.90135287]\n",
      "  [0.7699487  0.81018882 0.42637    0.40127099 0.76268083 0.62165776]]\n",
      "\n",
      " [[0.04399249 0.463636   0.27520062 0.97298026 0.28396807 0.17272555]\n",
      "  [0.74783931 0.93823122 0.90816731 0.4198637  0.55046468 0.97645881]\n",
      "  [0.60690575 0.2478901  0.24241366 0.54395142 0.20050855 0.54564369]]]\n"
     ]
    }
   ],
   "source": [
    "# If three arguments are given, 3D Array of floats in the range [0.0, 1.0) are returned\n",
    "num = np.random.rand(2, 3, 6)\n",
    "print(num)"
   ]
  },
  {
   "cell_type": "markdown",
   "metadata": {},
   "source": [
    "***\n",
    "## numpy.random.uniform distribution"
   ]
  },
  {
   "cell_type": "markdown",
   "metadata": {},
   "source": [
    "[Numpy.random.uniform distribution](https://docs.scipy.org/doc/numpy-1.15.1/reference/generated/numpy.random.uniform.html#numpy.random.uniform) is a probability distribution where each value within a certain range is equally likely to occur and values outside of the range never occur. It returns uniformly distributed samples over the half-open interval [low, high). Numpy.random.uniform distribution contains third optonal parameter, size, i.e. how many samples are to be drawn. [Probability density function](https://en.wikipedia.org/wiki/Probability_density_function) is used to specify the probability of the random variable falling within a particular range of values.\n",
    "\n",
    "The probability density function of the uniform distribution is anywhere within the interval [low, high), and zero elsewhere.$$p(x)=\\frac{1}{high-low}$$ "
   ]
  },
  {
   "cell_type": "code",
   "execution_count": 11,
   "metadata": {},
   "outputs": [
    {
     "name": "stdout",
     "output_type": "stream",
     "text": [
      "0.15896527841840968\n"
     ]
    }
   ],
   "source": [
    "# default numpy.random.normal(loc=0.0, scale=1.0, size=None)\n",
    "# prints any sample between 0(included) and 1.0(not included) \n",
    "num = np.random.uniform()\n",
    "print(num)"
   ]
  },
  {
   "cell_type": "code",
   "execution_count": 12,
   "metadata": {},
   "outputs": [
    {
     "name": "stdout",
     "output_type": "stream",
     "text": [
      "2.819053171672456\n"
     ]
    }
   ],
   "source": [
    "# one argument given, for ex. 5.5\n",
    "# prints any sample between 0(included) and 5.5(not included)\n",
    "num = np.random.uniform(5.5)\n",
    "print(num)"
   ]
  },
  {
   "cell_type": "code",
   "execution_count": 13,
   "metadata": {
    "scrolled": true
   },
   "outputs": [
    {
     "name": "stdout",
     "output_type": "stream",
     "text": [
      "0.24264396169476554\n"
     ]
    }
   ],
   "source": [
    "# two arguments given, for example (0, 1.0)\n",
    "# prints any sample between low boundary 0(included) and high boundary 1.0(not included)\n",
    "num = np.random.uniform(0, 1.0)\n",
    "print(num)"
   ]
  },
  {
   "cell_type": "code",
   "execution_count": 14,
   "metadata": {
    "scrolled": true
   },
   "outputs": [],
   "source": [
    "# two arguments and size given, for example (-2.0, 1), and number of samples 10000\n",
    "# prints 10000 samples between low boundary -2.0(included) and high boundary 1.0(not included)\n",
    "nums = np.random.uniform(-2.0, 1.0 , 10000)"
   ]
  },
  {
   "cell_type": "code",
   "execution_count": 15,
   "metadata": {},
   "outputs": [
    {
     "data": {
      "text/plain": [
       "False"
      ]
     },
     "execution_count": 15,
     "metadata": {},
     "output_type": "execute_result"
    }
   ],
   "source": [
    "# check the high boundary, should return False\n",
    "np.all(nums >= 1.0)"
   ]
  },
  {
   "cell_type": "code",
   "execution_count": 16,
   "metadata": {},
   "outputs": [
    {
     "data": {
      "image/png": "[encoded data removed]",
      "text/plain": [
       "<Figure size 432x288 with 1 Axes>"
      ]
     },
     "metadata": {
      "needs_background": "light"
     },
     "output_type": "display_data"
    }
   ],
   "source": [
    "# the samples can be displayed in histogram\n",
    "bins = 20\n",
    "plt.hist(nums, bins, facecolor='green', edgecolor='black', linewidth=1)\n",
    "\n",
    "plt.title('Uniform Distribution Histogram')\n",
    "plt.xlabel('low, high boundaries')\n",
    "plt.ylabel('count')\n",
    "plt.axis([-2.1, 1.1, 0, 600]) # x start, x end, y start, y end\n",
    "\n",
    "plt.show()"
   ]
  },
  {
   "cell_type": "markdown",
   "metadata": {},
   "source": [
    "***\n",
    "## numpy.random.shuffle function\n",
    "\n",
    "[Numpy.random.shuffle function](https://docs.scipy.org/doc/numpy-1.15.1/reference/generated/numpy.random.shuffle.html#numpy.random.shuffle) shuffles contents of the n-dimensional arrays. It only shuffles the array along the first axis of a multi-dimensional array. To shuffle a 2D or more dimensional array, it first has to be transformed to a 1d array (using [ravel function](https://www.science-emergence.com/Articles/How-to-randomly-shuffle-an-array-in-python-using-numpy/)) and then using shuffle and reshape the array to its original shape."
   ]
  },
  {
   "cell_type": "markdown",
   "metadata": {},
   "source": [
    "- **shuffle 1D array**"
   ]
  },
  {
   "cell_type": "code",
   "execution_count": 17,
   "metadata": {},
   "outputs": [
    {
     "name": "stdout",
     "output_type": "stream",
     "text": [
      "[0 1 2 3 4 5 6 7 8 9]\n"
     ]
    }
   ],
   "source": [
    "# create an array of 10 numbers\n",
    "my_arr = np.arange(0, 10)\n",
    "print(my_arr)"
   ]
  },
  {
   "cell_type": "code",
   "execution_count": 18,
   "metadata": {},
   "outputs": [
    {
     "name": "stdout",
     "output_type": "stream",
     "text": [
      "[4 7 2 3 9 8 5 6 0 1]\n"
     ]
    }
   ],
   "source": [
    "# shuffle the array\n",
    "np.random.shuffle(my_arr)\n",
    "print(my_arr)"
   ]
  },
  {
   "cell_type": "markdown",
   "metadata": {},
   "source": [
    "- **shuffle 2D (or more dimensional) array**"
   ]
  },
  {
   "cell_type": "code",
   "execution_count": 19,
   "metadata": {},
   "outputs": [
    {
     "name": "stdout",
     "output_type": "stream",
     "text": [
      "[[0 1 2]\n",
      " [3 4 5]\n",
      " [6 7 8]]\n"
     ]
    }
   ],
   "source": [
    "# create an array of 9 numbers and shape them to 2D array\n",
    "my_arr = np.arange(9).reshape((3, 3))\n",
    "print(my_arr)"
   ]
  },
  {
   "cell_type": "code",
   "execution_count": 20,
   "metadata": {},
   "outputs": [
    {
     "name": "stdout",
     "output_type": "stream",
     "text": [
      "[[3 4 5]\n",
      " [0 1 2]\n",
      " [6 7 8]]\n"
     ]
    }
   ],
   "source": [
    "# 2D array(or more dimensional) is only shuffled along the first axis\n",
    "np.random.shuffle(my_arr)\n",
    "print(my_arr)"
   ]
  },
  {
   "cell_type": "code",
   "execution_count": 21,
   "metadata": {},
   "outputs": [
    {
     "name": "stdout",
     "output_type": "stream",
     "text": [
      "[3 4 5 0 1 2 6 7 8]\n"
     ]
    }
   ],
   "source": [
    "# To randomly shuffle contents of each sub-array, \n",
    "# we have to transform the array to a 1d array using ravel function\n",
    "my_arr = my_arr.ravel()\n",
    "print(my_arr)"
   ]
  },
  {
   "cell_type": "code",
   "execution_count": 22,
   "metadata": {},
   "outputs": [
    {
     "name": "stdout",
     "output_type": "stream",
     "text": [
      "[8 7 1 2 5 4 0 3 6]\n"
     ]
    }
   ],
   "source": [
    "# shuffle the contents \n",
    "np.random.shuffle(my_arr)\n",
    "print(my_arr)"
   ]
  },
  {
   "cell_type": "code",
   "execution_count": 23,
   "metadata": {
    "scrolled": true
   },
   "outputs": [
    {
     "name": "stdout",
     "output_type": "stream",
     "text": [
      "[[8 7 1]\n",
      " [2 5 4]\n",
      " [0 3 6]]\n"
     ]
    }
   ],
   "source": [
    "# reshape it back to its original shape\n",
    "my_arr = my_arr.reshape(3, 3)\n",
    "print(my_arr)"
   ]
  },
  {
   "cell_type": "code",
   "execution_count": 24,
   "metadata": {
    "scrolled": false
   },
   "outputs": [
    {
     "name": "stdout",
     "output_type": "stream",
     "text": [
      "[[7 1 2]\n",
      " [6 8 5]\n",
      " [4 3 0]]\n"
     ]
    }
   ],
   "source": [
    "# The whole process put to one cell\n",
    "my_arr = np.arange(9).reshape((3, 3))\n",
    "my_arr = my_arr.ravel()\n",
    "np.random.shuffle(my_arr)\n",
    "my_arr = my_arr.reshape(3, 3)\n",
    "print(my_arr)"
   ]
  },
  {
   "cell_type": "markdown",
   "metadata": {},
   "source": [
    "***\n",
    "## numpy.random.standard_normal distribution"
   ]
  },
  {
   "cell_type": "markdown",
   "metadata": {},
   "source": [
    "[Numpy.random.standard_normal](https://docs.scipy.org/doc/numpy-1.15.1/reference/generated/numpy.random.standard_normal.html#numpy.random.standard_normal) is a [normal distribution](https://docs.scipy.org/doc/numpy-1.15.1/reference/generated/numpy.random.normal.html#numpy.random.normal), where the mean (µ) is equal to 0, and the standard deviation (σ) is equal to 1. The generated samples form a bell-shaped curve, where approximately 68% fall within 1 standard deviation of the mean, 95% fall within 2 standard deviation of the mean, and 99.7% fall within 3 standard deviation of the mean; or (µ - σ) and (µ + σ). It is used in statistics, for instance assigning grades scores based on performance relative to how others performed in the same population.\n",
    "\n",
    "[**68-95-99.7Rule**](http://www.oswego.edu/~srp/stats/6895997.htm)\n",
    "\n",
    "<img src=\"img/histogram.png\" width=\"300\" height=\"300\" align=\"left\"/>"
   ]
  },
  {
   "cell_type": "markdown",
   "metadata": {},
   "source": [
    "#### Resources & References\n",
    "\n",
    "*http://sphweb.bumc.bu.edu/otlt/MPH-Modules/BS/BS704_Probability/BS704_Probability9.html*\n",
    "\n",
    "*http://www.oswego.edu/~srp/stats/z.htm*\n",
    "\n",
    "*https://www.khanacademy.org/math/statistics-probability/modeling-distributions-of-data/normal-distributions-library/v/ck12-org-exercise-standard-normal-distribution-and-the-empirical-rule*\n",
    "\n",
    "*https://en.wikipedia.org/wiki/68%E2%80%9395%E2%80%9399.7_rule*"
   ]
  },
  {
   "cell_type": "code",
   "execution_count": 25,
   "metadata": {},
   "outputs": [
    {
     "name": "stdout",
     "output_type": "stream",
     "text": [
      "0.9300546955772672\n"
     ]
    }
   ],
   "source": [
    "# default numpy.random.standard_normal(size=None)\n",
    "# returns a single value\n",
    "num = np.random.standard_normal()\n",
    "print(num)"
   ]
  },
  {
   "cell_type": "code",
   "execution_count": 26,
   "metadata": {},
   "outputs": [
    {
     "name": "stdout",
     "output_type": "stream",
     "text": [
      "[-0.96875377  0.32357328  0.10103463 ... -0.47252373  1.13898559\n",
      "  0.4645477 ]\n"
     ]
    }
   ],
   "source": [
    "# generate 100000 samples\n",
    "nums = np.random.standard_normal(100000)\n",
    "print(nums)"
   ]
  },
  {
   "cell_type": "code",
   "execution_count": 27,
   "metadata": {
    "scrolled": true
   },
   "outputs": [
    {
     "data": {
      "image/png": "[encoded data removed]",
      "text/plain": [
       "<Figure size 432x288 with 1 Axes>"
      ]
     },
     "metadata": {
      "needs_background": "light"
     },
     "output_type": "display_data"
    }
   ],
   "source": [
    "# plot the samples in histogram\n",
    "bins = 20\n",
    "plt.hist(nums, bins, facecolor='blue', edgecolor='black', linewidth=1, label=\"number of samples\")\n",
    "\n",
    "plt.title('Standard Normal Distribution Histogram')\n",
    "plt.xlabel('µ')\n",
    "plt.ylabel('count')\n",
    "plt.legend()\n",
    "\n",
    "plt.show()"
   ]
  },
  {
   "cell_type": "markdown",
   "metadata": {},
   "source": [
    "***\n",
    "## numpy.random.RandomState and numpy.random.seed\n",
    "\n",
    "**[Numpy.random.RandomState(seed)](https://docs.scipy.org/doc/numpy-1.15.1/reference/generated/numpy.random.RandomState.html#numpy.random.RandomState)** is a class container for the [Mersenne Twister pseudo-random number generator](https://en.wikipedia.org/wiki/Mersenne_Twister). RandomState offers a variety of methods for generating random numbers from various probability distributions. Each method takes a keyword argument size that can be *None*, an integer or a tuple.\n",
    "\n",
    "RandomState contains a prameter called seed, that is used to initialize the pseudo-random number generator. If the seed is not specified, the RandomState will try to read data from [/dev/urandom](https://linux.die.net/man/4/urandom) (Unix-based OS) or [bcryptgenrandom](https://docs.microsoft.com/en-us/windows/desktop/api/bcrypt/nf-bcrypt-bcryptgenrandom) (Windows) if available, or seed from the microseconds on the operating system clock otherwise. If seed is specified, it makes subsequent calls to generate random numbers deterministic. In other words, it makes the random numbers predictable and results reproducible.\n",
    "\n",
    "\n",
    "**[Numpy.random.seed()](https://docs.scipy.org/doc/numpy-1.15.1/reference/generated/numpy.random.seed.html#numpy.random.seed)** specifies the start point when a computer generates a random number sequence. Seed method can be called again to re-seed the generator and it is called when RandomState is initialized. The seed's parameters can be *None* (default), any integer between 0 and $2^{32} - 1$ inclusive, an array (or other sequence) of integers. \n",
    "\n",
    "\n",
    "#### Resources & References\n",
    "\n",
    "*https://www.statisticshowto.datasciencecentral.com/random-seed-definition/*\n",
    "\n",
    "*https://www.codeproject.com/Articles/1083372/Random-Number-Generator-Recommendations-for-Applic?msg=5478379*\n",
    "\n",
    "*https://docs.python.org/3/library/random.html*\n",
    "\n",
    "*https://stackoverflow.com/questions/22994423/difference-between-np-random-seed-and-np-random-randomstate*\n",
    "\n",
    "*https://stackoverflow.com/questions/21494489/what-does-numpy-random-seed0-do*"
   ]
  },
  {
   "cell_type": "code",
   "execution_count": 28,
   "metadata": {},
   "outputs": [
    {
     "name": "stdout",
     "output_type": "stream",
     "text": [
      "[8.82349312 1.04327738 9.07009334 3.06398899]\n"
     ]
    }
   ],
   "source": [
    "# seed is 2018\n",
    "num = np.random.RandomState(2018).uniform(0, 10, 4)  \n",
    "print(num)"
   ]
  },
  {
   "cell_type": "code",
   "execution_count": 29,
   "metadata": {},
   "outputs": [
    {
     "name": "stdout",
     "output_type": "stream",
     "text": [
      "[8.82349312 1.04327738 9.07009334 3.06398899 4.46408872 5.89985392]\n"
     ]
    }
   ],
   "source": [
    "# generates 2 more samples, but first 4 are the same as in first example\n",
    "num = np.random.RandomState(2018)\n",
    "num = num.uniform(0, 10, 6)\n",
    "print(num)"
   ]
  },
  {
   "cell_type": "code",
   "execution_count": 30,
   "metadata": {},
   "outputs": [
    {
     "name": "stdout",
     "output_type": "stream",
     "text": [
      "[3.9874427  4.44614076 6.64733639 7.7115038  3.86229543 7.22150105]\n"
     ]
    }
   ],
   "source": [
    "# seed not specified\n",
    "np.random.seed()\n",
    "num = np.random.uniform(0, 10, 6)\n",
    "print(num)"
   ]
  },
  {
   "cell_type": "code",
   "execution_count": 31,
   "metadata": {},
   "outputs": [
    {
     "name": "stdout",
     "output_type": "stream",
     "text": [
      "[8.82349312 1.04327738 9.07009334 3.06398899 4.46408872 5.89985392]\n"
     ]
    }
   ],
   "source": [
    "# seed 2018 called again\n",
    "np.random.seed(2018)\n",
    "num = np.random.uniform(0, 10, 6)\n",
    "print(num)"
   ]
  },
  {
   "cell_type": "code",
   "execution_count": 32,
   "metadata": {},
   "outputs": [
    {
     "name": "stdout",
     "output_type": "stream",
     "text": [
      "<mtrand.RandomState object at 0x000001DB0DF8EAB0>\n",
      "<mtrand.RandomState object at 0x000001DB0DF732D0>\n",
      "[0 1 0 0 0 1 0 0 0 1]\n",
      "[0 1 0 0 0 1 0 0 0 1]\n"
     ]
    }
   ],
   "source": [
    "# rng1 and rng2 are two different objects with same parameters\n",
    "# with same seed both set of samples are identical\n",
    "rng1 = np.random.RandomState(42)\n",
    "rng2 = np.random.RandomState(42)\n",
    "print(rng1)\n",
    "print(rng2)\n",
    "print(rng1.randint(2, size=10))\n",
    "print(rng2.randint(2, size=10))"
   ]
  }
 ],
 "metadata": {
  "kernelspec": {
   "display_name": "Python 3",
   "language": "python",
   "name": "python3"
  },
  "language_info": {
   "codemirror_mode": {
    "name": "ipython",
    "version": 3
   },
   "file_extension": ".py",
   "mimetype": "text/x-python",
   "name": "python",
   "nbconvert_exporter": "python",
   "pygments_lexer": "ipython3",
   "version": "3.6.7"
  }
 },
 "nbformat": 4,
 "nbformat_minor": 1
}
