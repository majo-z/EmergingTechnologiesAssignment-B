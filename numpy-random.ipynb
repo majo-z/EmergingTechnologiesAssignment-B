{
 "cells": [
  {
   "cell_type": "markdown",
   "metadata": {},
   "source": [
    "## What is NumPy"
   ]
  },
  {
   "cell_type": "code",
   "execution_count": 1,
   "metadata": {},
   "outputs": [],
   "source": [
    "import numpy as np"
   ]
  },
  {
   "cell_type": "markdown",
   "metadata": {},
   "source": [
    "## What is MathLib"
   ]
  },
  {
   "cell_type": "code",
   "execution_count": 2,
   "metadata": {},
   "outputs": [],
   "source": [
    "import matplotlib.pyplot as plt"
   ]
  },
  {
   "cell_type": "markdown",
   "metadata": {},
   "source": [
    "## random - Generate pseudo-random numbers\n",
    "Random is a module that implements pseudorandom number generators for various distributions. NumPy has its own implementation of a random generator and as python also implements the Mersenne Twister pseudorandom number generator. "
   ]
  },
  {
   "cell_type": "markdown",
   "metadata": {},
   "source": [
    "## numpy.random.random() and numpy.random.rand() functions"
   ]
  },
  {
   "cell_type": "markdown",
   "metadata": {},
   "source": [
    "Both random.random and random.rand functions generate pseudo random floating point samples from the uniform distribution in the range [0.0, 1.0). It means that generated samples will include 0.0, but will not include 1.0, which is also known as a semi-open range or half-closed interval / half-open interval range."
   ]
  },
  {
   "cell_type": "markdown",
   "metadata": {},
   "source": [
    "[mathworld](http://mathworld.wolfram.com/Half-ClosedInterval.html) eplains it as an interval in which one endpoint is included but not the other. A half-closed interval is denoted [a,b) or (a,b] and is also called a half-open interval.\n",
    "![half-closed interval](https://github.com/majo-z/JupyterNotebookPictures/01_HalfClosedInterval.gif)"
   ]
  },
  {
   "cell_type": "markdown",
   "metadata": {},
   "source": [
    "* ## numpy.random.random() function\n",
    "Return random floats in the half-open interval [0.0, 1.0). It is actually an alias for numpy.random.random_sample() funtion.\n",
    "[Results](https://docs.scipy.org/doc/numpy/reference/generated/numpy.random.random.html#numpy.random.random) are from the \"continuous uniform\" distribution over the stated interval. Random.random() takes only 1 argument, the shape argument is a single tuple\n"
   ]
  },
  {
   "cell_type": "code",
   "execution_count": 7,
   "metadata": {},
   "outputs": [
    {
     "name": "stdout",
     "output_type": "stream",
     "text": [
      "0.8058488342412297\n"
     ]
    }
   ],
   "source": [
    "# Generate random float number in the range [0.0, 1.0)\n",
    "num = np.random.random()\n",
    "print(num)"
   ]
  },
  {
   "cell_type": "code",
   "execution_count": 9,
   "metadata": {},
   "outputs": [
    {
     "name": "stdout",
     "output_type": "stream",
     "text": [
      "[0.68391143 0.09515844 0.92811795 0.88106694]\n"
     ]
    }
   ],
   "source": [
    "# If argument given, for ex. 4, it will generate 4 random floats in the range [0.0, 1.0)\n",
    "num = np.random.random(4)\n",
    "print(num)"
   ]
  },
  {
   "cell_type": "code",
   "execution_count": null,
   "metadata": {},
   "outputs": [],
   "source": []
  }
 ],
 "metadata": {
  "kernelspec": {
   "display_name": "Python 3",
   "language": "python",
   "name": "python3"
  },
  "language_info": {
   "codemirror_mode": {
    "name": "ipython",
    "version": 3
   },
   "file_extension": ".py",
   "mimetype": "text/x-python",
   "name": "python",
   "nbconvert_exporter": "python",
   "pygments_lexer": "ipython3",
   "version": "3.7.0"
  }
 },
 "nbformat": 4,
 "nbformat_minor": 1
}
